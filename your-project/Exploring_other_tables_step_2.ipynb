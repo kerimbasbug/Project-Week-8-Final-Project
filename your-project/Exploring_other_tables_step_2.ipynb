{
 "cells": [
  {
   "cell_type": "code",
   "execution_count": 55,
   "metadata": {},
   "outputs": [],
   "source": [
    "import pandas as pd\n",
    "import numpy as np\n",
    "import ast\n",
    "import time"
   ]
  },
  {
   "cell_type": "markdown",
   "metadata": {},
   "source": [
    "In this notebook we will filter other datasets for restaurants for further use "
   ]
  },
  {
   "cell_type": "code",
   "execution_count": 2,
   "metadata": {},
   "outputs": [
    {
     "data": {
      "text/html": [
       "<div>\n",
       "<style scoped>\n",
       "    .dataframe tbody tr th:only-of-type {\n",
       "        vertical-align: middle;\n",
       "    }\n",
       "\n",
       "    .dataframe tbody tr th {\n",
       "        vertical-align: top;\n",
       "    }\n",
       "\n",
       "    .dataframe thead th {\n",
       "        text-align: right;\n",
       "    }\n",
       "</style>\n",
       "<table border=\"1\" class=\"dataframe\">\n",
       "  <thead>\n",
       "    <tr style=\"text-align: right;\">\n",
       "      <th></th>\n",
       "      <th>address</th>\n",
       "      <th>attributes</th>\n",
       "      <th>business_id</th>\n",
       "      <th>categories</th>\n",
       "      <th>city</th>\n",
       "      <th>hours</th>\n",
       "      <th>is_open</th>\n",
       "      <th>latitude</th>\n",
       "      <th>longitude</th>\n",
       "      <th>name</th>\n",
       "      <th>postal_code</th>\n",
       "      <th>review_count</th>\n",
       "      <th>stars</th>\n",
       "      <th>state</th>\n",
       "    </tr>\n",
       "  </thead>\n",
       "  <tbody>\n",
       "    <tr>\n",
       "      <th>1</th>\n",
       "      <td>30 Eglinton Avenue W</td>\n",
       "      <td>{'RestaurantsReservations': 'True', 'GoodForMe...</td>\n",
       "      <td>QXAEGFB4oINsVuTFxEYKFQ</td>\n",
       "      <td>Specialty Food, Restaurants, Dim Sum, Imported...</td>\n",
       "      <td>Mississauga</td>\n",
       "      <td>{'Monday': '9:0-0:0', 'Tuesday': '9:0-0:0', 'W...</td>\n",
       "      <td>1</td>\n",
       "      <td>43.605499</td>\n",
       "      <td>-79.652289</td>\n",
       "      <td>Emerald Chinese Restaurant</td>\n",
       "      <td>L5R 3E7</td>\n",
       "      <td>128</td>\n",
       "      <td>2.5</td>\n",
       "      <td>ON</td>\n",
       "    </tr>\n",
       "    <tr>\n",
       "      <th>1000</th>\n",
       "      <td>4 E University Dr</td>\n",
       "      <td>{'RestaurantsTakeOut': 'True', 'RestaurantsPri...</td>\n",
       "      <td>6KgGE8B1RsR7jc9R5nuH0Q</td>\n",
       "      <td>American (Traditional), Restaurants</td>\n",
       "      <td>Tempe</td>\n",
       "      <td>None</td>\n",
       "      <td>0</td>\n",
       "      <td>33.422192</td>\n",
       "      <td>-111.939615</td>\n",
       "      <td>Ruby Tuesday</td>\n",
       "      <td>85281</td>\n",
       "      <td>9</td>\n",
       "      <td>2.5</td>\n",
       "      <td>AZ</td>\n",
       "    </tr>\n",
       "    <tr>\n",
       "      <th>100003</th>\n",
       "      <td>7217 E Main St</td>\n",
       "      <td>{'GoodForKids': 'False', 'BusinessAcceptsCredi...</td>\n",
       "      <td>88Up7GnGZkU81QUE3NuO4g</td>\n",
       "      <td>Food, Imported Food, Nightlife, Australian, Ba...</td>\n",
       "      <td>Scottsdale</td>\n",
       "      <td>{'Monday': '11:0-0:0', 'Tuesday': '11:0-0:0', ...</td>\n",
       "      <td>1</td>\n",
       "      <td>33.492826</td>\n",
       "      <td>-111.925476</td>\n",
       "      <td>The Billabong Watering Hole</td>\n",
       "      <td>85251</td>\n",
       "      <td>4</td>\n",
       "      <td>4.0</td>\n",
       "      <td>AZ</td>\n",
       "    </tr>\n",
       "    <tr>\n",
       "      <th>100004</th>\n",
       "      <td>1955 W Baseline Rd</td>\n",
       "      <td>{'BusinessAcceptsCreditCards': 'True', 'BikePa...</td>\n",
       "      <td>Xz-0MLew6bmKE6FXEWCSyw</td>\n",
       "      <td>Vitamins &amp; Supplements, Food, Specialty Food, ...</td>\n",
       "      <td>Mesa</td>\n",
       "      <td>{'Monday': '9:0-21:0', 'Tuesday': '9:0-21:0', ...</td>\n",
       "      <td>0</td>\n",
       "      <td>33.377600</td>\n",
       "      <td>-111.877136</td>\n",
       "      <td>Hi-Health</td>\n",
       "      <td>85202</td>\n",
       "      <td>3</td>\n",
       "      <td>2.5</td>\n",
       "      <td>AZ</td>\n",
       "    </tr>\n",
       "    <tr>\n",
       "      <th>100005</th>\n",
       "      <td>13775 Highway 27</td>\n",
       "      <td>{'Ambience': '{'touristy': False, 'hipster': F...</td>\n",
       "      <td>YK8aOugv9mLrzBgJKP9biA</td>\n",
       "      <td>Beer, Wine &amp; Spirits, Gastropubs, Canadian (Ne...</td>\n",
       "      <td>Nobleton</td>\n",
       "      <td>{'Monday': '0:0-0:0', 'Tuesday': '12:0-23:0', ...</td>\n",
       "      <td>1</td>\n",
       "      <td>43.921109</td>\n",
       "      <td>-79.656739</td>\n",
       "      <td>The Summerhill</td>\n",
       "      <td>L0G 1T0</td>\n",
       "      <td>4</td>\n",
       "      <td>3.0</td>\n",
       "      <td>ON</td>\n",
       "    </tr>\n",
       "  </tbody>\n",
       "</table>\n",
       "</div>"
      ],
      "text/plain": [
       "                     address  \\\n",
       "1       30 Eglinton Avenue W   \n",
       "1000       4 E University Dr   \n",
       "100003        7217 E Main St   \n",
       "100004    1955 W Baseline Rd   \n",
       "100005      13775 Highway 27   \n",
       "\n",
       "                                               attributes  \\\n",
       "1       {'RestaurantsReservations': 'True', 'GoodForMe...   \n",
       "1000    {'RestaurantsTakeOut': 'True', 'RestaurantsPri...   \n",
       "100003  {'GoodForKids': 'False', 'BusinessAcceptsCredi...   \n",
       "100004  {'BusinessAcceptsCreditCards': 'True', 'BikePa...   \n",
       "100005  {'Ambience': '{'touristy': False, 'hipster': F...   \n",
       "\n",
       "                   business_id  \\\n",
       "1       QXAEGFB4oINsVuTFxEYKFQ   \n",
       "1000    6KgGE8B1RsR7jc9R5nuH0Q   \n",
       "100003  88Up7GnGZkU81QUE3NuO4g   \n",
       "100004  Xz-0MLew6bmKE6FXEWCSyw   \n",
       "100005  YK8aOugv9mLrzBgJKP9biA   \n",
       "\n",
       "                                               categories         city  \\\n",
       "1       Specialty Food, Restaurants, Dim Sum, Imported...  Mississauga   \n",
       "1000                  American (Traditional), Restaurants        Tempe   \n",
       "100003  Food, Imported Food, Nightlife, Australian, Ba...   Scottsdale   \n",
       "100004  Vitamins & Supplements, Food, Specialty Food, ...         Mesa   \n",
       "100005  Beer, Wine & Spirits, Gastropubs, Canadian (Ne...     Nobleton   \n",
       "\n",
       "                                                    hours  is_open   latitude  \\\n",
       "1       {'Monday': '9:0-0:0', 'Tuesday': '9:0-0:0', 'W...        1  43.605499   \n",
       "1000                                                 None        0  33.422192   \n",
       "100003  {'Monday': '11:0-0:0', 'Tuesday': '11:0-0:0', ...        1  33.492826   \n",
       "100004  {'Monday': '9:0-21:0', 'Tuesday': '9:0-21:0', ...        0  33.377600   \n",
       "100005  {'Monday': '0:0-0:0', 'Tuesday': '12:0-23:0', ...        1  43.921109   \n",
       "\n",
       "         longitude                         name postal_code  review_count  \\\n",
       "1       -79.652289   Emerald Chinese Restaurant     L5R 3E7           128   \n",
       "1000   -111.939615                 Ruby Tuesday       85281             9   \n",
       "100003 -111.925476  The Billabong Watering Hole       85251             4   \n",
       "100004 -111.877136                    Hi-Health       85202             3   \n",
       "100005  -79.656739               The Summerhill     L0G 1T0             4   \n",
       "\n",
       "        stars state  \n",
       "1         2.5    ON  \n",
       "1000      2.5    AZ  \n",
       "100003    4.0    AZ  \n",
       "100004    2.5    AZ  \n",
       "100005    3.0    ON  "
      ]
     },
     "execution_count": 2,
     "metadata": {},
     "output_type": "execute_result"
    }
   ],
   "source": [
    "res = pd.read_json(\"restaurants.json\")\n",
    "res.head()"
   ]
  },
  {
   "cell_type": "code",
   "execution_count": 3,
   "metadata": {},
   "outputs": [],
   "source": [
    "res_id = list(res[\"business_id\"])"
   ]
  },
  {
   "cell_type": "markdown",
   "metadata": {},
   "source": [
    "Filtering tip.json"
   ]
  },
  {
   "cell_type": "code",
   "execution_count": null,
   "metadata": {},
   "outputs": [],
   "source": [
    "tip = pd.read_json(\"/Users/kerimbasbug/Desktop/yelp_data/yelp_dataset/tip.json\", lines = True)"
   ]
  },
  {
   "cell_type": "code",
   "execution_count": null,
   "metadata": {},
   "outputs": [],
   "source": [
    "tip_final = pd.DataFrame()"
   ]
  },
  {
   "cell_type": "code",
   "execution_count": null,
   "metadata": {},
   "outputs": [],
   "source": [
    "tip_final = tip[tip[\"business_id\"].isin(res_id)]"
   ]
  },
  {
   "cell_type": "code",
   "execution_count": null,
   "metadata": {},
   "outputs": [],
   "source": [
    "tip_final.shape"
   ]
  },
  {
   "cell_type": "code",
   "execution_count": null,
   "metadata": {},
   "outputs": [],
   "source": [
    "tip_final.to_json(\"restip.json\")"
   ]
  },
  {
   "cell_type": "markdown",
   "metadata": {},
   "source": [
    "Filtering user.json"
   ]
  },
  {
   "cell_type": "code",
   "execution_count": 4,
   "metadata": {},
   "outputs": [],
   "source": [
    "lines = list(open(\"/Users/kerimbasbug/Desktop/yelp_data/yelp_dataset/user.json\",'r'))"
   ]
  },
  {
   "cell_type": "code",
   "execution_count": null,
   "metadata": {
    "scrolled": true
   },
   "outputs": [],
   "source": [
    "len(lines)"
   ]
  },
  {
   "cell_type": "code",
   "execution_count": 5,
   "metadata": {},
   "outputs": [
    {
     "data": {
      "text/plain": [
       "'{\"user_id\":\"l6BmjZMeQD3rDxWUbiAiow\",\"name\":\"Rashmi\",\"review_count\":95,\"yelping_since\":\"2013-10-08 23:11:33\",\"useful\":84,\"funny\":17,\"cool\":25,\"elite\":\"2015,2016,2017\",\"friends\":\"c78V-rj8NQcQjOI8KP3UEA, alRMgPcngYSCJ5naFRBz5g, ajcnq75Z5xxkvUSmmJ1bCg, BSMAmp2-wMzCkhTfq9ToNg, jka10dk9ygX76hJG0gfPZQ, dut0e4xvme7QSlesOycHQA, l4l5lBnK356zBua7B-UJ6Q, 0HicMOOs-M_gl2eO-zES4Q, _uI57wL2fLyftrcSFpfSGQ, T4_Qd0YWbC3co6WSMw4vxg, iBRoLWPtWmsI1kdbE9ORSA, xjrUcid6Ymq0DoTJELkYyw, GqadWVzJ6At-vgLzK_SKgA, DvB13VJBmSnbFXBVBsKmDA, vRP9nQkYTeNioDjtxZlVhg, gT0A1iN3eeQ8EMAjJhwQtw, 6yCWjFPtp_AD4x93WAwmnw, 1dKzpNnib-JlViKv8_Gt5g, 3Bv4_JxHXq-gVLOxYMQX0Q, ikQyfu1iViYh8T0us7wiFQ, f1GGltNaB7K5DR1jf3dOmg, tgeFUChlh7v8bZFVl2-hjQ, -9-9oyXlqsMG2he5xIWdLQ, Adj9fBPVJad8vSs-mIP7gw, Ce49RY8CKXVsTifxRYFTsw, M1_7TLi8CbdA89nFLlH4iw, wFsNv-hqbW_F5-IRqfBN6g, 0Q1L7zXHocaUZ2gsG2XJeg, cBFgmOCBdhYa0xoFEAzp_g, VrD_AgiFvzqtlR15vir3SQ, cpE-7HK514Sr5vpSen9CEQ, F1UYelhPFB-zIKlt0ygIZg, CQAL1hvsLMCzuJf9AglsXw, 1KnY1wr15WfEWIRLB9IS6g, QWFQ-kXBiLbid-lm5Jr3dQ, nymT8liFugCrM16lTy0ZfQ, qj69bdd885heDvUPCyHd2Q, DySCZZcgbdrlHgEovk5y9w, lZMJIDuvhT9Dy4KyquLXyA, b_9Gn7wS93AoPZPR0dIJqQ, N07g1IaLh0_6sUjtiSRe4w, YdfPX_7DxSnKvvdCJ57iOw, 8GYryZPD22W7WgQ8kvMkEQ, cpQmAgOWatghp14h1pn1dQ, EnchhymLYMqftCRjqvVWmw, -JdfKhFktE7Zs9BMDFcPeQ, uWhC9eof98zPkvsalgaqJw, eyTlNDDaiPatfe6mheIZ0g, VfHq0o73aKsODvfAhwAQtg, kvD5tICngLAaQDujSFWupA, dXacwEhqi9-3_XT6JeH0Og, NfU0zDaTMEQ4-X9dbQWd9A, cTHWBdjSKbctSUIvWsgFxw, 3IEtCbSDF5t7RkZ20T6s9A, HJJXTrp6UybYyPdQ9DA0JA, JaXogQFVjzGRAeBvzamBHg, NUonfKkjS1iVqnNITtgXZg, D5vaJAYp0sOrGfsj9qvsMA, H27Ecbwwu4FGAlLgICourw, S8HrLmMiE4u8FWYWkNEoTw, Io36Y3xWQcIX9rYvPcYfXQ, J5mcqh8KxYpqjaLBNlwcig, -nTB3_08g06fD0GT8AtDBQ, wMpFA46lihK8oFns_5p65A, RZGFJHeomGJCWp3xcL3ejA, ZoQSzzXoSP1RxOD4Amv9Bg, qzM0EB0SkuuGIFv0adjQAQ, HuM6vvuveken-fPZ7d4olA, H3oukHpGpn9n_mJwSDSQyQ, PkmsJsQ8FIZe8eh8c_u96g, wSByVbwME4MzgkJaFyfvNg, YEVqknoDmrHAoUbHX0nPnA, li3vsK1XAPmeJYAUTYflHQ, MKc8yXi0glbPYt0Qb4PECw, fQPH6W9fksi27gkuUPnFaA, amrCMrDsoRetYFg2kwwdFA, 84dVQ6n6r2ezNaTuc7RkKA, yW9QjWY0olv5-uRKv3t_Kw, 5XJDj7c3eoidfQ3jW18Zgw, txSc6a6pIDctvwyBeu7Aqg, HFbbDCyyqP9xPkUlcxeIdg, hTUv5oh2do6Z3OppPuuiJA, gSqonG9J4fNM-fl_fE71AA, pd9mgTFpBTg5F9x-MsczNg, j3VE22V2GcHiH8UZxfFLfw, NYXlMW-T-3V4Jqr4r-i0Wg, btxgAZedxX8IWhMifA7Xkg, -Hp5mPLiRJNFnyeX5Ygzag, P6-DwVg6-t2JuQwIUEk0iQ, OI2TvxYvZrAodBG_RF53Xw, bHxf_VPKmZur1Bier-6A2A, Et_Sb39cVm81_Xe9HDM8ZQ, 5HwGl2UyYbaRq8aD6YC-fA, ZK228WMcCKLo5thcjD7rdw, iTf8wojwfm0NOi7dOiz3Nw, btYRxQYNJjpecflNHtFH0A, Kgo42FzpW_dXFgDKoewbtg, MNk_1Q_dqOY3xxHZKeO8VQ, AlwD504T9k0m5lkg3k5g6Q\",\"fans\":5,\"average_stars\":4.03,\"compliment_hot\":2,\"compliment_more\":0,\"compliment_profile\":0,\"compliment_cute\":0,\"compliment_list\":0,\"compliment_note\":1,\"compliment_plain\":1,\"compliment_cool\":1,\"compliment_funny\":1,\"compliment_writer\":2,\"compliment_photos\":0}\\n'"
      ]
     },
     "execution_count": 5,
     "metadata": {},
     "output_type": "execute_result"
    }
   ],
   "source": [
    "lines[0]"
   ]
  },
  {
   "cell_type": "code",
   "execution_count": 13,
   "metadata": {},
   "outputs": [
    {
     "data": {
      "text/plain": [
       "'l6BmjZMeQD3rDxWUbiAiow'"
      ]
     },
     "execution_count": 13,
     "metadata": {},
     "output_type": "execute_result"
    }
   ],
   "source": [
    "s = lines[0][1:-2].split(\",\")\n",
    "user_id = s[0].split(\":\")[1][1:-1]"
   ]
  },
  {
   "cell_type": "code",
   "execution_count": 15,
   "metadata": {},
   "outputs": [
    {
     "data": {
      "text/plain": [
       "'Rashmi'"
      ]
     },
     "execution_count": 15,
     "metadata": {},
     "output_type": "execute_result"
    }
   ],
   "source": [
    "name = s[1].split(\":\")[1][1:-1]"
   ]
  },
  {
   "cell_type": "code",
   "execution_count": 51,
   "metadata": {},
   "outputs": [
    {
     "data": {
      "text/plain": [
       "'4.03'"
      ]
     },
     "execution_count": 51,
     "metadata": {},
     "output_type": "execute_result"
    }
   ],
   "source": [
    "ave_star = lines[0].split(\":\")[13].split(\",\")[0]"
   ]
  },
  {
   "cell_type": "code",
   "execution_count": 47,
   "metadata": {},
   "outputs": [
    {
     "data": {
      "text/plain": [
       "['c78V-rj8NQcQjOI8KP3UEA',\n",
       " ' alRMgPcngYSCJ5naFRBz5g',\n",
       " ' ajcnq75Z5xxkvUSmmJ1bCg',\n",
       " ' BSMAmp2-wMzCkhTfq9ToNg',\n",
       " ' jka10dk9ygX76hJG0gfPZQ',\n",
       " ' dut0e4xvme7QSlesOycHQA',\n",
       " ' l4l5lBnK356zBua7B-UJ6Q',\n",
       " ' 0HicMOOs-M_gl2eO-zES4Q',\n",
       " ' _uI57wL2fLyftrcSFpfSGQ',\n",
       " ' T4_Qd0YWbC3co6WSMw4vxg',\n",
       " ' iBRoLWPtWmsI1kdbE9ORSA',\n",
       " ' xjrUcid6Ymq0DoTJELkYyw',\n",
       " ' GqadWVzJ6At-vgLzK_SKgA',\n",
       " ' DvB13VJBmSnbFXBVBsKmDA',\n",
       " ' vRP9nQkYTeNioDjtxZlVhg',\n",
       " ' gT0A1iN3eeQ8EMAjJhwQtw',\n",
       " ' 6yCWjFPtp_AD4x93WAwmnw',\n",
       " ' 1dKzpNnib-JlViKv8_Gt5g',\n",
       " ' 3Bv4_JxHXq-gVLOxYMQX0Q',\n",
       " ' ikQyfu1iViYh8T0us7wiFQ',\n",
       " ' f1GGltNaB7K5DR1jf3dOmg',\n",
       " ' tgeFUChlh7v8bZFVl2-hjQ',\n",
       " ' -9-9oyXlqsMG2he5xIWdLQ',\n",
       " ' Adj9fBPVJad8vSs-mIP7gw',\n",
       " ' Ce49RY8CKXVsTifxRYFTsw',\n",
       " ' M1_7TLi8CbdA89nFLlH4iw',\n",
       " ' wFsNv-hqbW_F5-IRqfBN6g',\n",
       " ' 0Q1L7zXHocaUZ2gsG2XJeg',\n",
       " ' cBFgmOCBdhYa0xoFEAzp_g',\n",
       " ' VrD_AgiFvzqtlR15vir3SQ',\n",
       " ' cpE-7HK514Sr5vpSen9CEQ',\n",
       " ' F1UYelhPFB-zIKlt0ygIZg',\n",
       " ' CQAL1hvsLMCzuJf9AglsXw',\n",
       " ' 1KnY1wr15WfEWIRLB9IS6g',\n",
       " ' QWFQ-kXBiLbid-lm5Jr3dQ',\n",
       " ' nymT8liFugCrM16lTy0ZfQ',\n",
       " ' qj69bdd885heDvUPCyHd2Q',\n",
       " ' DySCZZcgbdrlHgEovk5y9w',\n",
       " ' lZMJIDuvhT9Dy4KyquLXyA',\n",
       " ' b_9Gn7wS93AoPZPR0dIJqQ',\n",
       " ' N07g1IaLh0_6sUjtiSRe4w',\n",
       " ' YdfPX_7DxSnKvvdCJ57iOw',\n",
       " ' 8GYryZPD22W7WgQ8kvMkEQ',\n",
       " ' cpQmAgOWatghp14h1pn1dQ',\n",
       " ' EnchhymLYMqftCRjqvVWmw',\n",
       " ' -JdfKhFktE7Zs9BMDFcPeQ',\n",
       " ' uWhC9eof98zPkvsalgaqJw',\n",
       " ' eyTlNDDaiPatfe6mheIZ0g',\n",
       " ' VfHq0o73aKsODvfAhwAQtg',\n",
       " ' kvD5tICngLAaQDujSFWupA',\n",
       " ' dXacwEhqi9-3_XT6JeH0Og',\n",
       " ' NfU0zDaTMEQ4-X9dbQWd9A',\n",
       " ' cTHWBdjSKbctSUIvWsgFxw',\n",
       " ' 3IEtCbSDF5t7RkZ20T6s9A',\n",
       " ' HJJXTrp6UybYyPdQ9DA0JA',\n",
       " ' JaXogQFVjzGRAeBvzamBHg',\n",
       " ' NUonfKkjS1iVqnNITtgXZg',\n",
       " ' D5vaJAYp0sOrGfsj9qvsMA',\n",
       " ' H27Ecbwwu4FGAlLgICourw',\n",
       " ' S8HrLmMiE4u8FWYWkNEoTw',\n",
       " ' Io36Y3xWQcIX9rYvPcYfXQ',\n",
       " ' J5mcqh8KxYpqjaLBNlwcig',\n",
       " ' -nTB3_08g06fD0GT8AtDBQ',\n",
       " ' wMpFA46lihK8oFns_5p65A',\n",
       " ' RZGFJHeomGJCWp3xcL3ejA',\n",
       " ' ZoQSzzXoSP1RxOD4Amv9Bg',\n",
       " ' qzM0EB0SkuuGIFv0adjQAQ',\n",
       " ' HuM6vvuveken-fPZ7d4olA',\n",
       " ' H3oukHpGpn9n_mJwSDSQyQ',\n",
       " ' PkmsJsQ8FIZe8eh8c_u96g',\n",
       " ' wSByVbwME4MzgkJaFyfvNg',\n",
       " ' YEVqknoDmrHAoUbHX0nPnA',\n",
       " ' li3vsK1XAPmeJYAUTYflHQ',\n",
       " ' MKc8yXi0glbPYt0Qb4PECw',\n",
       " ' fQPH6W9fksi27gkuUPnFaA',\n",
       " ' amrCMrDsoRetYFg2kwwdFA',\n",
       " ' 84dVQ6n6r2ezNaTuc7RkKA',\n",
       " ' yW9QjWY0olv5-uRKv3t_Kw',\n",
       " ' 5XJDj7c3eoidfQ3jW18Zgw',\n",
       " ' txSc6a6pIDctvwyBeu7Aqg',\n",
       " ' HFbbDCyyqP9xPkUlcxeIdg',\n",
       " ' hTUv5oh2do6Z3OppPuuiJA',\n",
       " ' gSqonG9J4fNM-fl_fE71AA',\n",
       " ' pd9mgTFpBTg5F9x-MsczNg',\n",
       " ' j3VE22V2GcHiH8UZxfFLfw',\n",
       " ' NYXlMW-T-3V4Jqr4r-i0Wg',\n",
       " ' btxgAZedxX8IWhMifA7Xkg',\n",
       " ' -Hp5mPLiRJNFnyeX5Ygzag',\n",
       " ' P6-DwVg6-t2JuQwIUEk0iQ',\n",
       " ' OI2TvxYvZrAodBG_RF53Xw',\n",
       " ' bHxf_VPKmZur1Bier-6A2A',\n",
       " ' Et_Sb39cVm81_Xe9HDM8ZQ',\n",
       " ' 5HwGl2UyYbaRq8aD6YC-fA',\n",
       " ' ZK228WMcCKLo5thcjD7rdw',\n",
       " ' iTf8wojwfm0NOi7dOiz3Nw',\n",
       " ' btYRxQYNJjpecflNHtFH0A',\n",
       " ' Kgo42FzpW_dXFgDKoewbtg',\n",
       " ' MNk_1Q_dqOY3xxHZKeO8VQ',\n",
       " ' AlwD504T9k0m5lkg3k5g6Q']"
      ]
     },
     "execution_count": 47,
     "metadata": {},
     "output_type": "execute_result"
    }
   ],
   "source": [
    "friends = lines[0].split(\":\")[11][1:-8].split(\",\")\n",
    "friends"
   ]
  },
  {
   "cell_type": "code",
   "execution_count": 53,
   "metadata": {},
   "outputs": [
    {
     "data": {
      "text/plain": [
       "99"
      ]
     },
     "execution_count": 53,
     "metadata": {},
     "output_type": "execute_result"
    }
   ],
   "source": [
    "num_friends = len(friends)\n",
    "num_friends"
   ]
  },
  {
   "cell_type": "code",
   "execution_count": 66,
   "metadata": {},
   "outputs": [
    {
     "name": "stdout",
     "output_type": "stream",
     "text": [
      "351.301882982254\n"
     ]
    }
   ],
   "source": [
    "lst = []\n",
    "ts = time.time()\n",
    "for line in lines:\n",
    "    s = line[1:-2].split(\",\")\n",
    "    user_id = s[0].split(\":\")[1][1:-1]\n",
    "    name = s[1].split(\":\")[1][1:-1]\n",
    "    ave_star = line.split(\":\")[13].split(\",\")[0]\n",
    "    friends = line.split(\":\")[11][1:-8].split(\",\")\n",
    "    num_friends = len(friends)\n",
    "    add = [user_id, name, ave_star, num_friends, friends]\n",
    "    lst.append(add)\n",
    "te = time.time()\n",
    "print(te-ts)"
   ]
  },
  {
   "cell_type": "code",
   "execution_count": 67,
   "metadata": {},
   "outputs": [],
   "source": [
    "df = pd.DataFrame(lst)"
   ]
  },
  {
   "cell_type": "code",
   "execution_count": 68,
   "metadata": {},
   "outputs": [
    {
     "data": {
      "text/html": [
       "<div>\n",
       "<style scoped>\n",
       "    .dataframe tbody tr th:only-of-type {\n",
       "        vertical-align: middle;\n",
       "    }\n",
       "\n",
       "    .dataframe tbody tr th {\n",
       "        vertical-align: top;\n",
       "    }\n",
       "\n",
       "    .dataframe thead th {\n",
       "        text-align: right;\n",
       "    }\n",
       "</style>\n",
       "<table border=\"1\" class=\"dataframe\">\n",
       "  <thead>\n",
       "    <tr style=\"text-align: right;\">\n",
       "      <th></th>\n",
       "      <th>0</th>\n",
       "      <th>1</th>\n",
       "      <th>2</th>\n",
       "      <th>3</th>\n",
       "      <th>4</th>\n",
       "    </tr>\n",
       "  </thead>\n",
       "  <tbody>\n",
       "    <tr>\n",
       "      <th>0</th>\n",
       "      <td>l6BmjZMeQD3rDxWUbiAiow</td>\n",
       "      <td>Rashmi</td>\n",
       "      <td>4.03</td>\n",
       "      <td>99</td>\n",
       "      <td>[c78V-rj8NQcQjOI8KP3UEA,  alRMgPcngYSCJ5naFRBz...</td>\n",
       "    </tr>\n",
       "    <tr>\n",
       "      <th>1</th>\n",
       "      <td>4XChL029mKr5hydo79Ljxg</td>\n",
       "      <td>Jenna</td>\n",
       "      <td>3.63</td>\n",
       "      <td>1152</td>\n",
       "      <td>[kEBTgDvFX754S68FllfCaA,  aB2DynOxNOJK9st2ZeGT...</td>\n",
       "    </tr>\n",
       "    <tr>\n",
       "      <th>2</th>\n",
       "      <td>bc8C_eETBWL0olvFSJJd0w</td>\n",
       "      <td>David</td>\n",
       "      <td>3.71</td>\n",
       "      <td>15</td>\n",
       "      <td>[4N-HU_T32hLENLntsNKNBg,  pSY2vwWLgWfGVAAiKQzM...</td>\n",
       "    </tr>\n",
       "    <tr>\n",
       "      <th>3</th>\n",
       "      <td>dD0gZpBctWGdWo9WlGuhlA</td>\n",
       "      <td>Angela</td>\n",
       "      <td>4.85</td>\n",
       "      <td>525</td>\n",
       "      <td>[RZ6wS38wnlXyj-OOdTzBxA,  l5jxZh1KsgI8rMunm-GN...</td>\n",
       "    </tr>\n",
       "    <tr>\n",
       "      <th>4</th>\n",
       "      <td>MM4RJAeH6yuaN8oZDSt0RA</td>\n",
       "      <td>Nancy</td>\n",
       "      <td>4.08</td>\n",
       "      <td>231</td>\n",
       "      <td>[mbwrZ-RS76V1HoJ0bF_Geg,  g64lOV39xSLRZO0aQQ6D...</td>\n",
       "    </tr>\n",
       "  </tbody>\n",
       "</table>\n",
       "</div>"
      ],
      "text/plain": [
       "                        0       1     2     3  \\\n",
       "0  l6BmjZMeQD3rDxWUbiAiow  Rashmi  4.03    99   \n",
       "1  4XChL029mKr5hydo79Ljxg   Jenna  3.63  1152   \n",
       "2  bc8C_eETBWL0olvFSJJd0w   David  3.71    15   \n",
       "3  dD0gZpBctWGdWo9WlGuhlA  Angela  4.85   525   \n",
       "4  MM4RJAeH6yuaN8oZDSt0RA   Nancy  4.08   231   \n",
       "\n",
       "                                                   4  \n",
       "0  [c78V-rj8NQcQjOI8KP3UEA,  alRMgPcngYSCJ5naFRBz...  \n",
       "1  [kEBTgDvFX754S68FllfCaA,  aB2DynOxNOJK9st2ZeGT...  \n",
       "2  [4N-HU_T32hLENLntsNKNBg,  pSY2vwWLgWfGVAAiKQzM...  \n",
       "3  [RZ6wS38wnlXyj-OOdTzBxA,  l5jxZh1KsgI8rMunm-GN...  \n",
       "4  [mbwrZ-RS76V1HoJ0bF_Geg,  g64lOV39xSLRZO0aQQ6D...  "
      ]
     },
     "execution_count": 68,
     "metadata": {},
     "output_type": "execute_result"
    }
   ],
   "source": [
    "df.head()"
   ]
  },
  {
   "cell_type": "code",
   "execution_count": 71,
   "metadata": {},
   "outputs": [],
   "source": [
    "df.columns = [\"user_id\", \"name\", \"ave_star\", \"num_friends\", \"friends\"]"
   ]
  },
  {
   "cell_type": "code",
   "execution_count": 72,
   "metadata": {},
   "outputs": [
    {
     "data": {
      "text/html": [
       "<div>\n",
       "<style scoped>\n",
       "    .dataframe tbody tr th:only-of-type {\n",
       "        vertical-align: middle;\n",
       "    }\n",
       "\n",
       "    .dataframe tbody tr th {\n",
       "        vertical-align: top;\n",
       "    }\n",
       "\n",
       "    .dataframe thead th {\n",
       "        text-align: right;\n",
       "    }\n",
       "</style>\n",
       "<table border=\"1\" class=\"dataframe\">\n",
       "  <thead>\n",
       "    <tr style=\"text-align: right;\">\n",
       "      <th></th>\n",
       "      <th>user_id</th>\n",
       "      <th>name</th>\n",
       "      <th>ave_star</th>\n",
       "      <th>num_friends</th>\n",
       "      <th>friends</th>\n",
       "    </tr>\n",
       "  </thead>\n",
       "  <tbody>\n",
       "    <tr>\n",
       "      <th>0</th>\n",
       "      <td>l6BmjZMeQD3rDxWUbiAiow</td>\n",
       "      <td>Rashmi</td>\n",
       "      <td>4.03</td>\n",
       "      <td>99</td>\n",
       "      <td>[c78V-rj8NQcQjOI8KP3UEA,  alRMgPcngYSCJ5naFRBz...</td>\n",
       "    </tr>\n",
       "    <tr>\n",
       "      <th>1</th>\n",
       "      <td>4XChL029mKr5hydo79Ljxg</td>\n",
       "      <td>Jenna</td>\n",
       "      <td>3.63</td>\n",
       "      <td>1152</td>\n",
       "      <td>[kEBTgDvFX754S68FllfCaA,  aB2DynOxNOJK9st2ZeGT...</td>\n",
       "    </tr>\n",
       "    <tr>\n",
       "      <th>2</th>\n",
       "      <td>bc8C_eETBWL0olvFSJJd0w</td>\n",
       "      <td>David</td>\n",
       "      <td>3.71</td>\n",
       "      <td>15</td>\n",
       "      <td>[4N-HU_T32hLENLntsNKNBg,  pSY2vwWLgWfGVAAiKQzM...</td>\n",
       "    </tr>\n",
       "    <tr>\n",
       "      <th>3</th>\n",
       "      <td>dD0gZpBctWGdWo9WlGuhlA</td>\n",
       "      <td>Angela</td>\n",
       "      <td>4.85</td>\n",
       "      <td>525</td>\n",
       "      <td>[RZ6wS38wnlXyj-OOdTzBxA,  l5jxZh1KsgI8rMunm-GN...</td>\n",
       "    </tr>\n",
       "    <tr>\n",
       "      <th>4</th>\n",
       "      <td>MM4RJAeH6yuaN8oZDSt0RA</td>\n",
       "      <td>Nancy</td>\n",
       "      <td>4.08</td>\n",
       "      <td>231</td>\n",
       "      <td>[mbwrZ-RS76V1HoJ0bF_Geg,  g64lOV39xSLRZO0aQQ6D...</td>\n",
       "    </tr>\n",
       "  </tbody>\n",
       "</table>\n",
       "</div>"
      ],
      "text/plain": [
       "                  user_id    name ave_star  num_friends  \\\n",
       "0  l6BmjZMeQD3rDxWUbiAiow  Rashmi     4.03           99   \n",
       "1  4XChL029mKr5hydo79Ljxg   Jenna     3.63         1152   \n",
       "2  bc8C_eETBWL0olvFSJJd0w   David     3.71           15   \n",
       "3  dD0gZpBctWGdWo9WlGuhlA  Angela     4.85          525   \n",
       "4  MM4RJAeH6yuaN8oZDSt0RA   Nancy     4.08          231   \n",
       "\n",
       "                                             friends  \n",
       "0  [c78V-rj8NQcQjOI8KP3UEA,  alRMgPcngYSCJ5naFRBz...  \n",
       "1  [kEBTgDvFX754S68FllfCaA,  aB2DynOxNOJK9st2ZeGT...  \n",
       "2  [4N-HU_T32hLENLntsNKNBg,  pSY2vwWLgWfGVAAiKQzM...  \n",
       "3  [RZ6wS38wnlXyj-OOdTzBxA,  l5jxZh1KsgI8rMunm-GN...  \n",
       "4  [mbwrZ-RS76V1HoJ0bF_Geg,  g64lOV39xSLRZO0aQQ6D...  "
      ]
     },
     "execution_count": 72,
     "metadata": {},
     "output_type": "execute_result"
    }
   ],
   "source": [
    "df.head()"
   ]
  },
  {
   "cell_type": "code",
   "execution_count": 73,
   "metadata": {},
   "outputs": [],
   "source": [
    "df.to_json(\"users_filtered.json\")"
   ]
  },
  {
   "cell_type": "code",
   "execution_count": null,
   "metadata": {},
   "outputs": [],
   "source": []
  }
 ],
 "metadata": {
  "kernelspec": {
   "display_name": "Python 3",
   "language": "python",
   "name": "python3"
  },
  "language_info": {
   "codemirror_mode": {
    "name": "ipython",
    "version": 3
   },
   "file_extension": ".py",
   "mimetype": "text/x-python",
   "name": "python",
   "nbconvert_exporter": "python",
   "pygments_lexer": "ipython3",
   "version": "3.7.4"
  }
 },
 "nbformat": 4,
 "nbformat_minor": 2
}
