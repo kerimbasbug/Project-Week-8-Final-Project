{
 "cells": [
  {
   "cell_type": "code",
   "execution_count": 1,
   "metadata": {},
   "outputs": [],
   "source": [
    "import pandas as pd\n",
    "import numpy as np"
   ]
  },
  {
   "cell_type": "code",
   "execution_count": 162,
   "metadata": {},
   "outputs": [
    {
     "data": {
      "text/html": [
       "<div>\n",
       "<style scoped>\n",
       "    .dataframe tbody tr th:only-of-type {\n",
       "        vertical-align: middle;\n",
       "    }\n",
       "\n",
       "    .dataframe tbody tr th {\n",
       "        vertical-align: top;\n",
       "    }\n",
       "\n",
       "    .dataframe thead th {\n",
       "        text-align: right;\n",
       "    }\n",
       "</style>\n",
       "<table border=\"1\" class=\"dataframe\">\n",
       "  <thead>\n",
       "    <tr style=\"text-align: right;\">\n",
       "      <th></th>\n",
       "      <th>address</th>\n",
       "      <th>attributes</th>\n",
       "      <th>business_id</th>\n",
       "      <th>categories</th>\n",
       "      <th>city</th>\n",
       "      <th>hours</th>\n",
       "      <th>is_open</th>\n",
       "      <th>latitude</th>\n",
       "      <th>longitude</th>\n",
       "      <th>name</th>\n",
       "      <th>postal_code</th>\n",
       "      <th>review_count</th>\n",
       "      <th>stars</th>\n",
       "      <th>state</th>\n",
       "    </tr>\n",
       "  </thead>\n",
       "  <tbody>\n",
       "    <tr>\n",
       "      <th>0</th>\n",
       "      <td>2818 E Camino Acequia Drive</td>\n",
       "      <td>{'GoodForKids': 'False'}</td>\n",
       "      <td>1SWheh84yJXfytovILXOAQ</td>\n",
       "      <td>Golf, Active Life</td>\n",
       "      <td>Phoenix</td>\n",
       "      <td>None</td>\n",
       "      <td>0</td>\n",
       "      <td>33.522143</td>\n",
       "      <td>-112.018481</td>\n",
       "      <td>Arizona Biltmore Golf Club</td>\n",
       "      <td>85016</td>\n",
       "      <td>5</td>\n",
       "      <td>3.0</td>\n",
       "      <td>AZ</td>\n",
       "    </tr>\n",
       "    <tr>\n",
       "      <th>1</th>\n",
       "      <td>30 Eglinton Avenue W</td>\n",
       "      <td>{'RestaurantsReservations': 'True', 'GoodForMe...</td>\n",
       "      <td>QXAEGFB4oINsVuTFxEYKFQ</td>\n",
       "      <td>Specialty Food, Restaurants, Dim Sum, Imported...</td>\n",
       "      <td>Mississauga</td>\n",
       "      <td>{'Monday': '9:0-0:0', 'Tuesday': '9:0-0:0', 'W...</td>\n",
       "      <td>1</td>\n",
       "      <td>43.605499</td>\n",
       "      <td>-79.652289</td>\n",
       "      <td>Emerald Chinese Restaurant</td>\n",
       "      <td>L5R 3E7</td>\n",
       "      <td>128</td>\n",
       "      <td>2.5</td>\n",
       "      <td>ON</td>\n",
       "    </tr>\n",
       "    <tr>\n",
       "      <th>2</th>\n",
       "      <td>10110 Johnston Rd, Ste 15</td>\n",
       "      <td>{'GoodForKids': 'True', 'NoiseLevel': 'u'avera...</td>\n",
       "      <td>gnKjwL_1w79qoiV3IC_xQQ</td>\n",
       "      <td>Sushi Bars, Restaurants, Japanese</td>\n",
       "      <td>Charlotte</td>\n",
       "      <td>{'Monday': '17:30-21:30', 'Wednesday': '17:30-...</td>\n",
       "      <td>1</td>\n",
       "      <td>35.092564</td>\n",
       "      <td>-80.859132</td>\n",
       "      <td>Musashi Japanese Restaurant</td>\n",
       "      <td>28210</td>\n",
       "      <td>170</td>\n",
       "      <td>4.0</td>\n",
       "      <td>NC</td>\n",
       "    </tr>\n",
       "    <tr>\n",
       "      <th>3</th>\n",
       "      <td>15655 W Roosevelt St, Ste 237</td>\n",
       "      <td>None</td>\n",
       "      <td>xvX2CttrVhyG2z1dFg_0xw</td>\n",
       "      <td>Insurance, Financial Services</td>\n",
       "      <td>Goodyear</td>\n",
       "      <td>{'Monday': '8:0-17:0', 'Tuesday': '8:0-17:0', ...</td>\n",
       "      <td>1</td>\n",
       "      <td>33.455613</td>\n",
       "      <td>-112.395596</td>\n",
       "      <td>Farmers Insurance - Paul Lorenz</td>\n",
       "      <td>85338</td>\n",
       "      <td>3</td>\n",
       "      <td>5.0</td>\n",
       "      <td>AZ</td>\n",
       "    </tr>\n",
       "    <tr>\n",
       "      <th>4</th>\n",
       "      <td>4209 Stuart Andrew Blvd, Ste F</td>\n",
       "      <td>{'BusinessAcceptsBitcoin': 'False', 'ByAppoint...</td>\n",
       "      <td>HhyxOkGAM07SRYtlQ4wMFQ</td>\n",
       "      <td>Plumbing, Shopping, Local Services, Home Servi...</td>\n",
       "      <td>Charlotte</td>\n",
       "      <td>{'Monday': '7:0-23:0', 'Tuesday': '7:0-23:0', ...</td>\n",
       "      <td>1</td>\n",
       "      <td>35.190012</td>\n",
       "      <td>-80.887223</td>\n",
       "      <td>Queen City Plumbing</td>\n",
       "      <td>28217</td>\n",
       "      <td>4</td>\n",
       "      <td>4.0</td>\n",
       "      <td>NC</td>\n",
       "    </tr>\n",
       "  </tbody>\n",
       "</table>\n",
       "</div>"
      ],
      "text/plain": [
       "                          address  \\\n",
       "0     2818 E Camino Acequia Drive   \n",
       "1            30 Eglinton Avenue W   \n",
       "2       10110 Johnston Rd, Ste 15   \n",
       "3   15655 W Roosevelt St, Ste 237   \n",
       "4  4209 Stuart Andrew Blvd, Ste F   \n",
       "\n",
       "                                          attributes             business_id  \\\n",
       "0                           {'GoodForKids': 'False'}  1SWheh84yJXfytovILXOAQ   \n",
       "1  {'RestaurantsReservations': 'True', 'GoodForMe...  QXAEGFB4oINsVuTFxEYKFQ   \n",
       "2  {'GoodForKids': 'True', 'NoiseLevel': 'u'avera...  gnKjwL_1w79qoiV3IC_xQQ   \n",
       "3                                               None  xvX2CttrVhyG2z1dFg_0xw   \n",
       "4  {'BusinessAcceptsBitcoin': 'False', 'ByAppoint...  HhyxOkGAM07SRYtlQ4wMFQ   \n",
       "\n",
       "                                          categories         city  \\\n",
       "0                                  Golf, Active Life      Phoenix   \n",
       "1  Specialty Food, Restaurants, Dim Sum, Imported...  Mississauga   \n",
       "2                  Sushi Bars, Restaurants, Japanese    Charlotte   \n",
       "3                      Insurance, Financial Services     Goodyear   \n",
       "4  Plumbing, Shopping, Local Services, Home Servi...    Charlotte   \n",
       "\n",
       "                                               hours  is_open   latitude  \\\n",
       "0                                               None        0  33.522143   \n",
       "1  {'Monday': '9:0-0:0', 'Tuesday': '9:0-0:0', 'W...        1  43.605499   \n",
       "2  {'Monday': '17:30-21:30', 'Wednesday': '17:30-...        1  35.092564   \n",
       "3  {'Monday': '8:0-17:0', 'Tuesday': '8:0-17:0', ...        1  33.455613   \n",
       "4  {'Monday': '7:0-23:0', 'Tuesday': '7:0-23:0', ...        1  35.190012   \n",
       "\n",
       "    longitude                             name postal_code  review_count  \\\n",
       "0 -112.018481       Arizona Biltmore Golf Club       85016             5   \n",
       "1  -79.652289       Emerald Chinese Restaurant     L5R 3E7           128   \n",
       "2  -80.859132      Musashi Japanese Restaurant       28210           170   \n",
       "3 -112.395596  Farmers Insurance - Paul Lorenz       85338             3   \n",
       "4  -80.887223              Queen City Plumbing       28217             4   \n",
       "\n",
       "   stars state  \n",
       "0    3.0    AZ  \n",
       "1    2.5    ON  \n",
       "2    4.0    NC  \n",
       "3    5.0    AZ  \n",
       "4    4.0    NC  "
      ]
     },
     "execution_count": 162,
     "metadata": {},
     "output_type": "execute_result"
    }
   ],
   "source": [
    "bus = pd.read_json(\"/Users/kerimbasbug/Desktop/yelp_data/yelp_dataset/business.json\", lines=True)\n",
    "bus.head()"
   ]
  },
  {
   "cell_type": "code",
   "execution_count": 163,
   "metadata": {},
   "outputs": [
    {
     "data": {
      "text/plain": [
       "(192609, 14)"
      ]
     },
     "execution_count": 163,
     "metadata": {},
     "output_type": "execute_result"
    }
   ],
   "source": [
    "bus.shape"
   ]
  },
  {
   "cell_type": "code",
   "execution_count": 164,
   "metadata": {},
   "outputs": [
    {
     "name": "stdout",
     "output_type": "stream",
     "text": [
      "<class 'pandas.core.frame.DataFrame'>\n",
      "RangeIndex: 192609 entries, 0 to 192608\n",
      "Data columns (total 14 columns):\n",
      "address         192609 non-null object\n",
      "attributes      163773 non-null object\n",
      "business_id     192609 non-null object\n",
      "categories      192127 non-null object\n",
      "city            192609 non-null object\n",
      "hours           147779 non-null object\n",
      "is_open         192609 non-null int64\n",
      "latitude        192609 non-null float64\n",
      "longitude       192609 non-null float64\n",
      "name            192609 non-null object\n",
      "postal_code     192609 non-null object\n",
      "review_count    192609 non-null int64\n",
      "stars           192609 non-null float64\n",
      "state           192609 non-null object\n",
      "dtypes: float64(3), int64(2), object(9)\n",
      "memory usage: 20.6+ MB\n"
     ]
    }
   ],
   "source": [
    "bus.info()"
   ]
  },
  {
   "cell_type": "code",
   "execution_count": 165,
   "metadata": {},
   "outputs": [
    {
     "data": {
      "text/plain": [
       "address             0\n",
       "attributes      28836\n",
       "business_id         0\n",
       "categories        482\n",
       "city                0\n",
       "hours           44830\n",
       "is_open             0\n",
       "latitude            0\n",
       "longitude           0\n",
       "name                0\n",
       "postal_code         0\n",
       "review_count        0\n",
       "stars               0\n",
       "state               0\n",
       "dtype: int64"
      ]
     },
     "execution_count": 165,
     "metadata": {},
     "output_type": "execute_result"
    }
   ],
   "source": [
    "bus.isna().sum()"
   ]
  },
  {
   "cell_type": "code",
   "execution_count": 168,
   "metadata": {},
   "outputs": [],
   "source": [
    "# Dropping rows with categories with None because these wont help us\n",
    "bus.dropna(subset=[\"categories\"], inplace=True)"
   ]
  },
  {
   "cell_type": "code",
   "execution_count": 169,
   "metadata": {},
   "outputs": [
    {
     "data": {
      "text/plain": [
       "(192127, 14)"
      ]
     },
     "execution_count": 169,
     "metadata": {},
     "output_type": "execute_result"
    }
   ],
   "source": [
    "bus.shape"
   ]
  },
  {
   "cell_type": "code",
   "execution_count": 172,
   "metadata": {},
   "outputs": [
    {
     "name": "stdout",
     "output_type": "stream",
     "text": [
      "Restaurant (59387, 14)\n",
      "Bar (19083, 14)\n",
      "Food (36527, 14)\n",
      "Cuisine (55, 14)\n",
      "Bakeries (3711, 14)\n",
      "Steakhouse (1603, 14)\n",
      "Cafe (3404, 14)\n",
      "Gastro (629, 14)\n",
      "Dessert (3332, 14)\n",
      "Breakfast (5540, 14)\n",
      "Coffee & Tea (7326, 14)\n",
      "Brunch (5381, 14)\n"
     ]
    }
   ],
   "source": [
    "# Keywords and their occurances\n",
    "key_words = [\"Restaurant\", \"Bar\", \"Food\", \"Cuisine\", \"Bakeries\", \"Steakhouse\", \"Cafe\", \"Gastro\", \"Dessert\", \"Breakfast\", \"Coffee & Tea\", \"Brunch\"]\n",
    "for key in key_words:\n",
    "    print(key , bus[bus['categories'].str.contains(key)].shape)"
   ]
  },
  {
   "cell_type": "code",
   "execution_count": 173,
   "metadata": {},
   "outputs": [],
   "source": [
    "# Creating a new dataframe to keep restaurants\n",
    "res = pd.DataFrame()\n",
    "for key in key_words:\n",
    "    res = res.append(bus[bus['categories'].str.contains(key)])"
   ]
  },
  {
   "cell_type": "code",
   "execution_count": 174,
   "metadata": {},
   "outputs": [
    {
     "data": {
      "text/plain": [
       "(145978, 14)"
      ]
     },
     "execution_count": 174,
     "metadata": {},
     "output_type": "execute_result"
    }
   ],
   "source": [
    "res.shape"
   ]
  },
  {
   "cell_type": "code",
   "execution_count": 175,
   "metadata": {},
   "outputs": [
    {
     "data": {
      "text/plain": [
       "iP0o0sxOhxLssSdME4SZvg    9\n",
       "poYsvuOmVDqF4dTnjJ780A    9\n",
       "_gnSt_cqn5XMmLuAhTdC4A    9\n",
       "KW5edXlPGeZ0cx7MiJyamw    9\n",
       "ZgPnRzWjQR5NtiauGBww7g    8\n",
       "cQK9M2JAwETQnnBoYyua5A    8\n",
       "sba0fwlKAZFGWWtsf5Jbwg    8\n",
       "qMJyOW1FdPOf8sli8DIq_A    8\n",
       "PBLU9eokea1Xzp0iC90J8g    8\n",
       "QoC81Y4w5aZZ2VLI4Mxwlw    8\n",
       "eXgDqKD7-sojyzh6q7PJ4g    8\n",
       "tS58M3ksle_MHc_vn4VgRA    8\n",
       "XP2-85idhfplo8P0Pvj_Gg    8\n",
       "hoskgfXQRZXc9HV48nVFvg    8\n",
       "eZxumlgPOWk50qzsjUbMOQ    8\n",
       "Q_1jSgM9PQyoSmo7yyyoHA    8\n",
       "lnd23oqCb7v8lt9zd4K8sg    8\n",
       "RA1Jchnz3uQDg4YVHckKXQ    8\n",
       "kNXx7YfgyQfxyliLd1p-dg    8\n",
       "seYvTmOZGJ2IAMdfQa8pkg    8\n",
       "84RdNjDKXKzqZlSlT6G6PA    8\n",
       "z3bUwDC1wUPGeIB8Rt90wA    8\n",
       "5RqU2YARBU69d9zK6h-fXg    8\n",
       "cOJ1uIVIHCiefUyWG2wDfw    8\n",
       "8D0riP6OYLoQ_pPE7Q2MNQ    8\n",
       "vvUgEPZBRQLUt08FxawJnA    8\n",
       "nYzCr8fcJ2ci4aiB1-hB6w    8\n",
       "KFlwmysUsRUOx4-_5PQ8xA    8\n",
       "vdYIg0R0ipQujO918GSkLg    8\n",
       "ISgQ4us3LMZ78l1LOG_14A    7\n",
       "                         ..\n",
       "CQz1TCbNK6Q3iNnEmWntgw    1\n",
       "hRK876bEBdPYAJKbg6pCEw    1\n",
       "Lm6L1iLVooEfzViOxpp00Q    1\n",
       "tBecXDdDmboDVwUu4kmOiA    1\n",
       "MhFoFpLBx_Fy8gs9dlwtGA    1\n",
       "AUFFJBCh6spwBFJI6SnITg    1\n",
       "Yewxcf5-kbESoS5r1l-1AQ    1\n",
       "oYAAc-KvuUqqFlwTuGx_hw    1\n",
       "mLP-jIIRdoaYM7fJqqFurw    1\n",
       "S1I7r5YvxcrTASv_t7cxAA    1\n",
       "PU46ghXwFt84kGBWSaLnMg    1\n",
       "iwzVhM5CirzkNS5wTxwZeA    1\n",
       "bgzMrz4qzEfJ7qqNthcveA    1\n",
       "anz96Ltm0hcw_wvlFM1Ihg    1\n",
       "2xw-Ksu9b2jDYlZaApXcBA    1\n",
       "RsOhyOHX_d3v-3tHJWgx6A    1\n",
       "CfeI-Qy1KzQV4vAdvLNY7g    1\n",
       "BHX0ghpo_r4lVxGRPEBIQw    1\n",
       "O32_y_U6dhjfoRLpUNGyJw    1\n",
       "z9lOfnUorcbWR_xS0DSeHw    1\n",
       "n3K99yEe9Pc8pni8LY_egQ    1\n",
       "lyTIuSgPdyRMx3l7xPzl3A    1\n",
       "dY_oOCE3fU50zs97SVRlrg    1\n",
       "v89mTnhtPx35o0zawjIyaQ    1\n",
       "P2NNRC_fSE0ib5nX2gpJ5Q    1\n",
       "RskjK-ZpTzYH_To-y7gRWA    1\n",
       "c3KFC-mLHtIYDqYbUkdT4w    1\n",
       "STX8NfaW_xP6YZq-wERHYg    1\n",
       "pUihHVilZtpZz4FApnOvtA    1\n",
       "neHvFz_Q2thklke5wJ7LiQ    1\n",
       "Name: business_id, Length: 79755, dtype: int64"
      ]
     },
     "execution_count": 175,
     "metadata": {},
     "output_type": "execute_result"
    }
   ],
   "source": [
    "# Checking repetitions\n",
    "res[\"business_id\"].value_counts()"
   ]
  },
  {
   "cell_type": "code",
   "execution_count": 176,
   "metadata": {},
   "outputs": [],
   "source": [
    "# Dropping repetitions\n",
    "res.drop_duplicates(\"business_id\", keep=\"first\",inplace=True)"
   ]
  },
  {
   "cell_type": "code",
   "execution_count": 177,
   "metadata": {},
   "outputs": [
    {
     "data": {
      "text/plain": [
       "ARdkHJ748cC_7_fwViQxng    1\n",
       "RwZxc7vqYGOj99K1CYildQ    1\n",
       "Azv56nBqwNVnFWVf9b6uyw    1\n",
       "4ficqwBgX5rBsMZYby8ZuA    1\n",
       "u0bWfnHYMD14wfRvSRxZZA    1\n",
       "5dVHpVTdk8M5YutBNgIidA    1\n",
       "WRzzYfVx79CsLjgrD3w5MQ    1\n",
       "4lKF-M_3OLsk1usLPDJEFA    1\n",
       "F6ScBoyzVPhuvyJUUdUZ9Q    1\n",
       "6cYgq6_kSOa2SgXrjyaLZg    1\n",
       "PT0N41nUD3CErvn046JEhg    1\n",
       "-TjzQsimpriXVYaH3HdtQA    1\n",
       "YhKcOW9-lmdKrQcyt8elCw    1\n",
       "wFbncfH1aRNhF9pleXU7wA    1\n",
       "rIlig6V-irV9wjKvquqNyw    1\n",
       "uivpqxLmLXhuargU1f6uGQ    1\n",
       "nkubaPIxnt6ZYhjKsAe3yg    1\n",
       "kuvBnJc3bllm2xpuleezIw    1\n",
       "Y82nxZanrGxrYWAXXKpqtA    1\n",
       "REM8BezFuK4MQ6j2k1I7-Q    1\n",
       "aw98-dck-2ah0j4yjYJ-Hg    1\n",
       "sC7WrCOlASZEHhyXZ3hExQ    1\n",
       "2m4092MsMzEHkuxodaj6-g    1\n",
       "LmNKCVuSK-asJZLfwCuZXw    1\n",
       "R5ZvZ97FDp2bD93CNKg-zQ    1\n",
       "KoKFVOm09q5LHkHNwFIjIQ    1\n",
       "O6-wzBz2Zgbat37jN_7drQ    1\n",
       "cKuQzS414qVRjEcS490H9A    1\n",
       "gsCOklDm1pbx3Tzo3W-mtw    1\n",
       "Miag6Vn3tknpiEK1VDza8Q    1\n",
       "                         ..\n",
       "pyNtk4kLZh70EVxHs7gL3Q    1\n",
       "yae3VHS39BBaLGBUn94sHQ    1\n",
       "Wcn8ikS6DaPtpjuyewE9uQ    1\n",
       "jhdrw0UTPtvNbcltt85Lcw    1\n",
       "iX1kgU4_b-b6r1GN-YuLyQ    1\n",
       "_XOxcQ9JzvJJaf3OTLejfQ    1\n",
       "vnX6ckAHrI30SaiioGN5Eg    1\n",
       "HQcel0uvg7N7KfhHJChfSQ    1\n",
       "816UOVoEQM6yLiWBD7PDNQ    1\n",
       "VYByx4yXYiZDeiaVVus7HQ    1\n",
       "MtBEpp_txJp5OYoHGAKiAA    1\n",
       "I3cB_LOD_AXS80vQYazffw    1\n",
       "ZUf-zw_tS6uhoRy3UBXv5g    1\n",
       "Tl2nqtPXlLbAG3qkUYVM2g    1\n",
       "HBBZRHpJG3L4lXLWz910JQ    1\n",
       "ubz4CaZXagQuGv2N9gFAdw    1\n",
       "SP1S_ua_cd96U9OmYR-4rg    1\n",
       "WulCmMT3OpYjqms71v-A2Q    1\n",
       "OKZkEXzJt0XIamHRRTX-8g    1\n",
       "yPcAdikNrXEsfbHNBQUjkQ    1\n",
       "pL-QrHxQ0kHBDA1ZyOjGQw    1\n",
       "YXyiUcnGRmIlT5JJ651z0Q    1\n",
       "72Q-Gu4rye0kEMWuw7P2oQ    1\n",
       "br3DuzzRsyBX9VcLWtEh_w    1\n",
       "3fTI3ZQkzAugLS12_NFRag    1\n",
       "Oxp-BkA_8vP8mVNRnPPmqQ    1\n",
       "oLz3JuHkQqwFcmOlwq__8A    1\n",
       "-HYt7RFN333ATu9UwYcKCg    1\n",
       "qyRqQuEFDUY2icvGPHhvyg    1\n",
       "UYf2EUbbPG-sL6sUtaIaAg    1\n",
       "Name: business_id, Length: 79755, dtype: int64"
      ]
     },
     "execution_count": 177,
     "metadata": {},
     "output_type": "execute_result"
    }
   ],
   "source": [
    "# Check\n",
    "res[\"business_id\"].value_counts()"
   ]
  },
  {
   "cell_type": "code",
   "execution_count": 180,
   "metadata": {},
   "outputs": [
    {
     "data": {
      "text/plain": [
       "address             0\n",
       "attributes       3265\n",
       "business_id         0\n",
       "categories          0\n",
       "city                0\n",
       "hours           19335\n",
       "is_open             0\n",
       "latitude            0\n",
       "longitude           0\n",
       "name                0\n",
       "postal_code         0\n",
       "review_count        0\n",
       "stars               0\n",
       "state               0\n",
       "dtype: int64"
      ]
     },
     "execution_count": 180,
     "metadata": {},
     "output_type": "execute_result"
    }
   ],
   "source": [
    "# Checking null values\n",
    "res.isna().sum()"
   ]
  },
  {
   "cell_type": "markdown",
   "metadata": {},
   "source": [
    "At this point we have some null values in hours and attributes columns but these columns don't matter much for us.  \n",
    "From now on we will use res as our main dataframe "
   ]
  },
  {
   "cell_type": "code",
   "execution_count": 181,
   "metadata": {},
   "outputs": [],
   "source": [
    "res.to_json(\"restaurants.json\")"
   ]
  }
 ],
 "metadata": {
  "kernelspec": {
   "display_name": "Python 3",
   "language": "python",
   "name": "python3"
  },
  "language_info": {
   "codemirror_mode": {
    "name": "ipython",
    "version": 3
   },
   "file_extension": ".py",
   "mimetype": "text/x-python",
   "name": "python",
   "nbconvert_exporter": "python",
   "pygments_lexer": "ipython3",
   "version": "3.7.4"
  }
 },
 "nbformat": 4,
 "nbformat_minor": 2
}
